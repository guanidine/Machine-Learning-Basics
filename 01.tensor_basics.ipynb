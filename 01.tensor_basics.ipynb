{
  "cells": [
    {
      "cell_type": "markdown",
      "metadata": {
        "id": "view-in-github",
        "colab_type": "text"
      },
      "source": [
        "<a href=\"https://colab.research.google.com/github/guanidine/Machine-Learning-Basics/blob/main/01.tensor_basics.ipynb\" target=\"_parent\"><img src=\"https://colab.research.google.com/assets/colab-badge.svg\" alt=\"Open In Colab\"/></a>"
      ]
    },
    {
      "cell_type": "code",
      "execution_count": 1,
      "metadata": {
        "collapsed": true,
        "id": "G-NqgyF9W0Ok"
      },
      "outputs": [],
      "source": [
        "import torch\n",
        "import numpy as np"
      ]
    },
    {
      "cell_type": "code",
      "execution_count": 2,
      "outputs": [],
      "source": [
        "device = \"cuda\" if torch.cuda.is_available() else \"cpu\""
      ],
      "metadata": {
        "id": "3IDK0Mo0W0Ot"
      }
    },
    {
      "cell_type": "markdown",
      "source": [
        "## Initializing Tensor"
      ],
      "metadata": {
        "collapsed": false,
        "id": "KMWkJcxFW0Ov"
      }
    },
    {
      "cell_type": "code",
      "execution_count": 3,
      "outputs": [
        {
          "output_type": "stream",
          "name": "stdout",
          "text": [
            "tensor([[1., 2., 3.],\n",
            "        [4., 5., 6.]], device='cuda:0', requires_grad=True)\n",
            "torch.float32\n",
            "cuda:0\n",
            "torch.Size([2, 3])\n",
            "True\n"
          ]
        }
      ],
      "source": [
        "my_tensor = torch.tensor([[1, 2, 3], [4, 5, 6]], dtype=torch.float32, device=device, requires_grad=True)\n",
        "\n",
        "print(my_tensor)\n",
        "print(my_tensor.dtype)\n",
        "print(my_tensor.device)\n",
        "print(my_tensor.shape)\n",
        "print(my_tensor.requires_grad)"
      ],
      "metadata": {
        "colab": {
          "base_uri": "https://localhost:8080/"
        },
        "id": "DY7ne4srW0Oy",
        "outputId": "b287233c-6a7f-4068-8ec0-c19b61e5f15f"
      }
    },
    {
      "cell_type": "code",
      "execution_count": 4,
      "outputs": [
        {
          "output_type": "stream",
          "name": "stdout",
          "text": [
            "tensor([[1., 0., 0.],\n",
            "        [0., 1., 0.],\n",
            "        [0., 0., 1.]])\n"
          ]
        }
      ],
      "source": [
        "# Other common initialization methods\n",
        "x = torch.empty(size=(3, 3))\n",
        "x = torch.zeros((3, 3))\n",
        "x = torch.rand((3, 3))\n",
        "x = torch.ones((3, 3))\n",
        "x = torch.eye(5, 5)  # I\n",
        "x = torch.arange(start=0, end=5, step=1)\n",
        "x = torch.linspace(start=0.1, end=1, steps=10)\n",
        "x = torch.empty(size=(1, 5)).normal_(mean=0, std=1)\n",
        "x = torch.empty(size=(1, 5)).uniform_(0, 1)\n",
        "x = torch.diag(torch.ones(3))\n",
        "print(x)"
      ],
      "metadata": {
        "colab": {
          "base_uri": "https://localhost:8080/"
        },
        "id": "6yBDC2okW0O1",
        "outputId": "797b2528-997e-4279-8332-8feecca470a3"
      }
    },
    {
      "cell_type": "code",
      "execution_count": 5,
      "outputs": [
        {
          "output_type": "stream",
          "name": "stdout",
          "text": [
            "tensor([False,  True,  True,  True])\n",
            "tensor([0, 1, 2, 3], dtype=torch.int16)\n",
            "tensor([0, 1, 2, 3])\n",
            "tensor([0., 1., 2., 3.], dtype=torch.float16)\n",
            "tensor([0., 1., 2., 3.])\n",
            "tensor([0., 1., 2., 3.], dtype=torch.float64)\n"
          ]
        }
      ],
      "source": [
        "# How to make initialized tensors to other types (int, float, double)\n",
        "tensor = torch.arange(4)\n",
        "print(tensor.bool())  # boolean True/False\n",
        "print(tensor.short())  # int16\n",
        "print(tensor.long())  # int64(Important)\n",
        "print(tensor.half())  # float16\n",
        "print(tensor.float())  # float32(Important)\n",
        "print(tensor.double())  # float64"
      ],
      "metadata": {
        "colab": {
          "base_uri": "https://localhost:8080/"
        },
        "id": "bWX3i-nIW0O2",
        "outputId": "3be4a957-d37b-4843-8d7b-13117c1d6522"
      }
    },
    {
      "cell_type": "code",
      "execution_count": 6,
      "outputs": [
        {
          "output_type": "stream",
          "name": "stdout",
          "text": [
            "tensor([[0., 0., 0., 0., 0.],\n",
            "        [0., 0., 0., 0., 0.],\n",
            "        [0., 0., 0., 0., 0.],\n",
            "        [0., 0., 0., 0., 0.],\n",
            "        [0., 0., 0., 0., 0.]], dtype=torch.float64)\n",
            "[[0. 0. 0. 0. 0.]\n",
            " [0. 0. 0. 0. 0.]\n",
            " [0. 0. 0. 0. 0.]\n",
            " [0. 0. 0. 0. 0.]\n",
            " [0. 0. 0. 0. 0.]]\n"
          ]
        }
      ],
      "source": [
        "# Array to Tensor conversion and vice-versa\n",
        "np_array = np.zeros((5, 5))\n",
        "tensor = torch.from_numpy(np_array)\n",
        "np_array_back = tensor.numpy()\n",
        "print(tensor)\n",
        "print(np_array_back)"
      ],
      "metadata": {
        "colab": {
          "base_uri": "https://localhost:8080/"
        },
        "id": "eDFPWsDpW0O4",
        "outputId": "363df155-8dd4-4050-8cdc-2331e11a69fe"
      }
    },
    {
      "cell_type": "markdown",
      "source": [
        "## Tensor Math & Comparison Operations"
      ],
      "metadata": {
        "collapsed": false,
        "id": "-fetLLEIW0O7"
      }
    },
    {
      "cell_type": "code",
      "execution_count": 7,
      "outputs": [],
      "source": [
        "x = torch.tensor([1, 2, 3])\n",
        "y = torch.tensor([9, 8, 7])"
      ],
      "metadata": {
        "id": "GCdg5kO4W0O9"
      }
    },
    {
      "cell_type": "code",
      "execution_count": 8,
      "outputs": [
        {
          "output_type": "stream",
          "name": "stdout",
          "text": [
            "tensor([10, 10, 10])\n"
          ]
        }
      ],
      "source": [
        "# Addition\n",
        "z1 = torch.empty(3)\n",
        "torch.add(x, y, out=z1)\n",
        "\n",
        "z2 = torch.add(x, y)\n",
        "z = x + y\n",
        "print(z)"
      ],
      "metadata": {
        "colab": {
          "base_uri": "https://localhost:8080/"
        },
        "id": "zl1YQ0whW0O-",
        "outputId": "c0759efe-0397-436d-c729-687b9e8fa56e"
      }
    },
    {
      "cell_type": "code",
      "execution_count": 9,
      "outputs": [
        {
          "output_type": "stream",
          "name": "stdout",
          "text": [
            "tensor([-8, -6, -4])\n"
          ]
        }
      ],
      "source": [
        "# Subtraction\n",
        "z = x - y\n",
        "print(z)"
      ],
      "metadata": {
        "colab": {
          "base_uri": "https://localhost:8080/"
        },
        "id": "h5ELLAEZW0PA",
        "outputId": "9a9c8993-e329-4b66-db07-dbb1a91573dc"
      }
    },
    {
      "cell_type": "code",
      "execution_count": 10,
      "outputs": [
        {
          "output_type": "stream",
          "name": "stdout",
          "text": [
            "tensor([0.1111, 0.2500, 0.4286])\n"
          ]
        }
      ],
      "source": [
        "# Division\n",
        "z = torch.true_divide(x, y)\n",
        "print(z)"
      ],
      "metadata": {
        "colab": {
          "base_uri": "https://localhost:8080/"
        },
        "id": "3fXk3-zxW0PB",
        "outputId": "bff1e767-602f-46c0-e024-e81a7a75ab66"
      }
    },
    {
      "cell_type": "code",
      "execution_count": 11,
      "outputs": [
        {
          "output_type": "stream",
          "name": "stdout",
          "text": [
            "tensor([2., 4., 6.])\n"
          ]
        }
      ],
      "source": [
        "# Inplace operations\n",
        "t = torch.zeros(3)\n",
        "t.add_(x)\n",
        "t += x\n",
        "print(t)"
      ],
      "metadata": {
        "colab": {
          "base_uri": "https://localhost:8080/"
        },
        "id": "zz97IgHbW0PB",
        "outputId": "087194f4-7f0b-42ea-f380-3b9decdfb655"
      }
    },
    {
      "cell_type": "code",
      "execution_count": 12,
      "outputs": [
        {
          "output_type": "stream",
          "name": "stdout",
          "text": [
            "tensor([1, 4, 9])\n"
          ]
        }
      ],
      "source": [
        "# Exponentiation\n",
        "z = x.pow(2)\n",
        "z = x ** 2\n",
        "print(z)"
      ],
      "metadata": {
        "colab": {
          "base_uri": "https://localhost:8080/"
        },
        "id": "49CCqSMpW0PC",
        "outputId": "83dffbee-f90e-457c-ed3e-acaf76fc78fe"
      }
    },
    {
      "cell_type": "code",
      "execution_count": 13,
      "outputs": [],
      "source": [
        "# Simple comparison\n",
        "z = x > 0\n",
        "z = x < 0"
      ],
      "metadata": {
        "id": "YcZoD7lmW0PD"
      }
    },
    {
      "cell_type": "code",
      "execution_count": 14,
      "outputs": [
        {
          "output_type": "stream",
          "name": "stdout",
          "text": [
            "tensor([[1.4771, 1.3145, 0.2076],\n",
            "        [0.7735, 0.8542, 0.1385]])\n"
          ]
        }
      ],
      "source": [
        "# Matrix multiplication\n",
        "x1 = torch.rand((2, 5))\n",
        "x2 = torch.rand((5, 3))\n",
        "x3 = torch.mm(x1, x2)\n",
        "x3 = x1.mm(x2)\n",
        "print(x3)"
      ],
      "metadata": {
        "colab": {
          "base_uri": "https://localhost:8080/"
        },
        "id": "CkhJoVwYW0PE",
        "outputId": "7f6f6dee-7ac6-4c85-a7d5-ee2cf5f0f49b"
      }
    },
    {
      "cell_type": "code",
      "execution_count": 15,
      "outputs": [
        {
          "output_type": "stream",
          "name": "stdout",
          "text": [
            "tensor([[1.1732, 1.8243, 1.1495],\n",
            "        [1.2881, 2.0736, 1.2094],\n",
            "        [1.1264, 1.8600, 1.0514]])\n"
          ]
        }
      ],
      "source": [
        "# Matrix exponentiation\n",
        "matrix_exp = torch.rand(3, 3)\n",
        "print(matrix_exp.matrix_power(3))"
      ],
      "metadata": {
        "colab": {
          "base_uri": "https://localhost:8080/"
        },
        "id": "zHpQDFZnW0PF",
        "outputId": "5a22f8fb-e24a-4cb7-fe9d-aedf100c3396"
      }
    },
    {
      "cell_type": "code",
      "execution_count": 16,
      "outputs": [
        {
          "output_type": "stream",
          "name": "stdout",
          "text": [
            "tensor([ 9, 16, 21])\n"
          ]
        }
      ],
      "source": [
        "# Element wise multi\n",
        "z = x * y\n",
        "print(z)"
      ],
      "metadata": {
        "colab": {
          "base_uri": "https://localhost:8080/"
        },
        "id": "fvK_fyWkW0PF",
        "outputId": "7a61c16c-6730-43ff-a949-3bc499d56b52"
      }
    },
    {
      "cell_type": "code",
      "execution_count": 17,
      "outputs": [
        {
          "output_type": "stream",
          "name": "stdout",
          "text": [
            "tensor(46)\n"
          ]
        }
      ],
      "source": [
        "# Dot product\n",
        "z = torch.dot(x, y)\n",
        "print(z)"
      ],
      "metadata": {
        "colab": {
          "base_uri": "https://localhost:8080/"
        },
        "id": "nT1zvNkeW0PG",
        "outputId": "a6e3c985-dcab-43a3-8909-482c94cc644e"
      }
    },
    {
      "cell_type": "code",
      "execution_count": 18,
      "outputs": [
        {
          "output_type": "stream",
          "name": "stdout",
          "text": [
            "torch.Size([32, 10, 20])\n",
            "torch.Size([32, 20, 30])\n",
            "torch.Size([32, 10, 30])\n"
          ]
        }
      ],
      "source": [
        "# Batch matrix multiplication\n",
        "batch = 32\n",
        "n = 10\n",
        "m = 20\n",
        "p = 30\n",
        "\n",
        "tensor1 = torch.rand((batch, n, m))\n",
        "tensor2 = torch.rand((batch, m, p))\n",
        "out_bmm = torch.bmm(tensor1, tensor2)  # (b x n x p)\n",
        "print(tensor1.shape)\n",
        "print(tensor2.shape)\n",
        "print(out_bmm.shape)"
      ],
      "metadata": {
        "colab": {
          "base_uri": "https://localhost:8080/"
        },
        "id": "UbkCF43OW0PH",
        "outputId": "46fa35cd-e016-4dbc-d8fd-d0d7692aa64e"
      }
    },
    {
      "cell_type": "code",
      "execution_count": 19,
      "outputs": [
        {
          "output_type": "stream",
          "name": "stdout",
          "text": [
            "tensor([[ 0.4246, -0.4179],\n",
            "        [ 0.0724,  0.1346]])\n",
            "tensor([[0.9366, 0.3129],\n",
            "        [0.7445, 0.8050]])\n"
          ]
        }
      ],
      "source": [
        "# Example of broadcasting\n",
        "x1 = torch.rand((2, 2))\n",
        "x2 = torch.rand((1, 2))\n",
        "\n",
        "# Shape of z is 2x2: How? The 1x2 vector (x2) is subtracted for each row in the 2x2 (x1)\n",
        "z = x1 - x2\n",
        "print(z)\n",
        "# Shape of z is 2x2: How? Broadcasting! Element wise exponentiation for every row\n",
        "z = x1 ** x2\n",
        "print(z)"
      ],
      "metadata": {
        "colab": {
          "base_uri": "https://localhost:8080/"
        },
        "id": "IjgCZvL3W0PJ",
        "outputId": "02129e2e-3b57-44a7-d577-d50f95c09d38"
      }
    },
    {
      "cell_type": "code",
      "execution_count": 20,
      "outputs": [
        {
          "output_type": "stream",
          "name": "stdout",
          "text": [
            "tensor(6)\n",
            "tensor(3) tensor(2)\n",
            "tensor(1) tensor(0)\n",
            "tensor([False, False, False])\n",
            "torch.return_types.sort(\n",
            "values=tensor([7, 8, 9]),\n",
            "indices=tensor([2, 1, 0]))\n",
            "tensor(True)\n",
            "tensor(False)\n"
          ]
        }
      ],
      "source": [
        "# Other useful tensor operations\n",
        "sum_x = torch.sum(x, dim=0)\n",
        "print(sum_x)\n",
        "value, indices = torch.max(x, dim=0)  # x.max(dim=0)\n",
        "print(value, indices)\n",
        "value, indices = torch.min(x, dim=0)\n",
        "print(value, indices)\n",
        "abs_x = torch.abs(x)\n",
        "z = torch.argmax(x, dim=0)\n",
        "z = torch.argmin(x, dim=0)\n",
        "mean_x = torch.mean(x.float(), dim=0)\n",
        "z = torch.eq(x, y)\n",
        "print(z)\n",
        "sorted_y = torch.sort(y, dim=0, descending=False)\n",
        "print(sorted_y)\n",
        "z = torch.clamp(x, min=1 + 1e-3)\n",
        "x = torch.tensor([1, 0, 1, 1, 1], dtype=torch.bool)\n",
        "z = torch.any(x)  # x.any()\n",
        "print(z)\n",
        "z = x.all()  # torch.all(x)\n",
        "print(z)"
      ],
      "metadata": {
        "colab": {
          "base_uri": "https://localhost:8080/"
        },
        "id": "s4eLicyhW0PJ",
        "outputId": "8046b816-17f2-44bd-d354-bd133eaf8998"
      }
    },
    {
      "cell_type": "markdown",
      "source": [
        "## Tensor Indexing"
      ],
      "metadata": {
        "collapsed": false,
        "id": "wWbV4lteW0PK"
      }
    },
    {
      "cell_type": "code",
      "execution_count": 21,
      "outputs": [
        {
          "output_type": "stream",
          "name": "stdout",
          "text": [
            "torch.Size([25])\n",
            "torch.Size([10])\n",
            "tensor([0.4097, 0.9933, 0.5993, 0.1140, 0.6852, 0.4510, 0.5757, 0.0478, 0.6739,\n",
            "        0.7614])\n"
          ]
        }
      ],
      "source": [
        "batch_size = 10\n",
        "features = 25\n",
        "x = torch.rand((batch_size, features))\n",
        "\n",
        "print(x[0].shape)  # x[0,:]\n",
        "print(x[:, 0].shape)\n",
        "print(x[2, 0:10])  # 0:10 -> [0, 1, 2, ..., 9]\n",
        "\n",
        "x[0, 0] = 100"
      ],
      "metadata": {
        "colab": {
          "base_uri": "https://localhost:8080/"
        },
        "id": "agkoBcSUW0PM",
        "outputId": "732d31d8-2b63-4f78-cf8c-2d98a2add095"
      }
    },
    {
      "cell_type": "code",
      "execution_count": 22,
      "outputs": [
        {
          "output_type": "stream",
          "name": "stdout",
          "text": [
            "tensor([2, 5, 8])\n",
            "torch.Size([2])\n"
          ]
        }
      ],
      "source": [
        "# Fancy indexing\n",
        "x = torch.arange(10)\n",
        "indices = [2, 5, 8]\n",
        "print(x[indices])\n",
        "\n",
        "x = torch.rand((3, 5))\n",
        "rows = torch.tensor([1, 0])\n",
        "cols = torch.tensor([4, 0])\n",
        "print(x[rows, cols].shape)"
      ],
      "metadata": {
        "colab": {
          "base_uri": "https://localhost:8080/"
        },
        "id": "mLQhdmUIW0PO",
        "outputId": "4787d0a7-0d3d-43af-c805-c4caaa540099"
      }
    },
    {
      "cell_type": "code",
      "execution_count": 23,
      "outputs": [
        {
          "output_type": "stream",
          "name": "stdout",
          "text": [
            "tensor([0, 1, 9])\n",
            "tensor([0, 2, 4, 6, 8])\n"
          ]
        }
      ],
      "source": [
        "# More advanced indexing\n",
        "x = torch.arange(10)\n",
        "print(x[(x < 2) | (x > 8)])\n",
        "print(x[x.remainder(2) == 0])"
      ],
      "metadata": {
        "colab": {
          "base_uri": "https://localhost:8080/"
        },
        "id": "WAYpCmFZW0PP",
        "outputId": "f7181d57-3510-492f-e626-377b157c16af"
      }
    },
    {
      "cell_type": "code",
      "execution_count": 24,
      "outputs": [
        {
          "output_type": "stream",
          "name": "stdout",
          "text": [
            "tensor([ 0,  2,  4,  6,  8, 10,  6,  7,  8,  9])\n",
            "tensor([0, 1, 2, 3, 4])\n",
            "3\n",
            "125\n"
          ]
        }
      ],
      "source": [
        "# Useful operation\n",
        "print(torch.where(x > 5, x, x * 2))\n",
        "print(torch.tensor([0, 0, 1, 2, 2, 3, 4]).unique())\n",
        "print(torch.rand((5, 5, 5)).ndimension())\n",
        "print(torch.rand((5, 5, 5)).numel())"
      ],
      "metadata": {
        "colab": {
          "base_uri": "https://localhost:8080/"
        },
        "id": "7_WrkyVsW0PQ",
        "outputId": "f40fb0a6-f5b2-4939-8a11-ff233bec0a6c"
      }
    },
    {
      "cell_type": "markdown",
      "source": [
        "## Tensor Reshaping"
      ],
      "metadata": {
        "collapsed": false,
        "id": "T9Rgi0xBW0PQ"
      }
    },
    {
      "cell_type": "code",
      "execution_count": 25,
      "outputs": [
        {
          "output_type": "stream",
          "name": "stdout",
          "text": [
            "tensor([[0, 1, 2],\n",
            "        [3, 4, 5],\n",
            "        [6, 7, 8]])\n"
          ]
        },
        {
          "output_type": "stream",
          "name": "stderr",
          "text": [
            "/usr/local/lib/python3.9/dist-packages/torch/_tensor.py:761: UserWarning: non-inplace resize is deprecated\n",
            "  warnings.warn(\"non-inplace resize is deprecated\")\n"
          ]
        }
      ],
      "source": [
        "x = torch.arange(9)\n",
        "x_3x3 = x.view(3, 3)  # stored contiguously\n",
        "x_3x3 = x.resize(3, 3)  # copy to make it contiguously stored, some performance loss\n",
        "print(x_3x3)"
      ],
      "metadata": {
        "colab": {
          "base_uri": "https://localhost:8080/"
        },
        "id": "TE6PLMa7W0PR",
        "outputId": "707f0d8e-659b-4602-fef6-66dccc9f206c"
      }
    },
    {
      "cell_type": "code",
      "execution_count": 26,
      "outputs": [
        {
          "output_type": "stream",
          "name": "stdout",
          "text": [
            "tensor([[0, 3, 6],\n",
            "        [1, 4, 7],\n",
            "        [2, 5, 8]])\n",
            "tensor([0, 3, 6, 1, 4, 7, 2, 5, 8])\n",
            "tensor([0, 3, 6, 1, 4, 7, 2, 5, 8])\n"
          ]
        }
      ],
      "source": [
        "y = x_3x3.t()\n",
        "print(y)\n",
        "print(y.contiguous().view(9))\n",
        "print(y.reshape(9))"
      ],
      "metadata": {
        "colab": {
          "base_uri": "https://localhost:8080/"
        },
        "id": "Gsgssf1nW0PR",
        "outputId": "c0004ca3-2a2f-4995-805f-d3d29e1f8d07"
      }
    },
    {
      "cell_type": "code",
      "execution_count": 27,
      "outputs": [
        {
          "output_type": "stream",
          "name": "stdout",
          "text": [
            "torch.Size([4, 5])\n",
            "torch.Size([2, 10])\n"
          ]
        }
      ],
      "source": [
        "x1 = torch.rand((2, 5))\n",
        "x2 = torch.rand((2, 5))\n",
        "print(torch.cat((x1, x2), dim=0).shape)\n",
        "print(torch.cat((x1, x2), dim=1).shape)"
      ],
      "metadata": {
        "colab": {
          "base_uri": "https://localhost:8080/"
        },
        "id": "rBSf7w-xW0PR",
        "outputId": "a782932f-2d56-48d5-a0d2-6263278dd2de"
      }
    },
    {
      "cell_type": "code",
      "execution_count": 28,
      "outputs": [
        {
          "output_type": "stream",
          "name": "stdout",
          "text": [
            "torch.Size([10])\n",
            "torch.Size([64, 10])\n"
          ]
        }
      ],
      "source": [
        "z = x1.view(-1)\n",
        "print(z.shape)\n",
        "\n",
        "batch = 64\n",
        "x = torch.rand((batch, 2, 5))\n",
        "z = x.view(batch, -1)\n",
        "print(z.shape)"
      ],
      "metadata": {
        "colab": {
          "base_uri": "https://localhost:8080/"
        },
        "id": "z5vl-3_1W0PS",
        "outputId": "c3fe93ed-a986-41dc-e619-4a88ea311992"
      }
    },
    {
      "cell_type": "code",
      "execution_count": 29,
      "outputs": [
        {
          "output_type": "stream",
          "name": "stdout",
          "text": [
            "torch.Size([64, 2, 5])\n",
            "torch.Size([64, 5, 2])\n"
          ]
        }
      ],
      "source": [
        "z = x.permute(0, 2, 1)\n",
        "print(x.shape)\n",
        "print(z.shape)"
      ],
      "metadata": {
        "colab": {
          "base_uri": "https://localhost:8080/"
        },
        "id": "47JR1yIkW0PS",
        "outputId": "9d6add55-25ec-4650-e990-506e6c22d852"
      }
    },
    {
      "cell_type": "code",
      "execution_count": 30,
      "outputs": [
        {
          "output_type": "stream",
          "name": "stdout",
          "text": [
            "torch.Size([1, 10])\n",
            "torch.Size([10, 1])\n"
          ]
        }
      ],
      "source": [
        "x = torch.arange(10)\n",
        "print(x.unsqueeze(0).shape)\n",
        "print(x.unsqueeze(1).shape)"
      ],
      "metadata": {
        "colab": {
          "base_uri": "https://localhost:8080/"
        },
        "id": "bBSFgoW9W0PS",
        "outputId": "94c1da80-c213-4833-efe5-b99346e529e0"
      }
    },
    {
      "cell_type": "code",
      "execution_count": 31,
      "outputs": [
        {
          "output_type": "stream",
          "name": "stdout",
          "text": [
            "torch.Size([1, 1, 10])\n",
            "torch.Size([1, 10])\n"
          ]
        }
      ],
      "source": [
        "x = torch.arange(10).unsqueeze(0).unsqueeze(1)\n",
        "print(x.shape)\n",
        "\n",
        "z = x.squeeze(1)\n",
        "print(z.shape)"
      ],
      "metadata": {
        "colab": {
          "base_uri": "https://localhost:8080/"
        },
        "id": "1G_CIFnEW0PT",
        "outputId": "8862b011-8806-4dcd-b760-9049200c6e87"
      }
    }
  ],
  "metadata": {
    "kernelspec": {
      "display_name": "Python 3",
      "language": "python",
      "name": "python3"
    },
    "language_info": {
      "codemirror_mode": {
        "name": "ipython",
        "version": 2
      },
      "file_extension": ".py",
      "mimetype": "text/x-python",
      "name": "python",
      "nbconvert_exporter": "python",
      "pygments_lexer": "ipython2",
      "version": "2.7.6"
    },
    "colab": {
      "provenance": [],
      "include_colab_link": true
    },
    "accelerator": "GPU",
    "gpuClass": "standard"
  },
  "nbformat": 4,
  "nbformat_minor": 0
}